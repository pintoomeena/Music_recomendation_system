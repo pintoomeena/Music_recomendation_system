{
 "cells": [
  {
   "cell_type": "code",
   "execution_count": 18,
   "id": "b47cb770-e608-41c6-bec3-1da38f0bd93a",
   "metadata": {},
   "outputs": [],
   "source": [
    "import pandas as pd\n",
    "import numpy as np"
   ]
  },
  {
   "cell_type": "code",
   "execution_count": 19,
   "id": "b0f0aba5-3eb0-4c01-94dc-65aeaf3e24ac",
   "metadata": {},
   "outputs": [],
   "source": [
    "df = pd.read_csv('spotify_millsongdata.csv')"
   ]
  },
  {
   "cell_type": "code",
   "execution_count": 44,
   "id": "d4a5a15d-0887-4d8f-b6e7-33d629266b56",
   "metadata": {},
   "outputs": [
    {
     "data": {
      "text/html": [
       "<div>\n",
       "<style scoped>\n",
       "    .dataframe tbody tr th:only-of-type {\n",
       "        vertical-align: middle;\n",
       "    }\n",
       "\n",
       "    .dataframe tbody tr th {\n",
       "        vertical-align: top;\n",
       "    }\n",
       "\n",
       "    .dataframe thead th {\n",
       "        text-align: right;\n",
       "    }\n",
       "</style>\n",
       "<table border=\"1\" class=\"dataframe\">\n",
       "  <thead>\n",
       "    <tr style=\"text-align: right;\">\n",
       "      <th></th>\n",
       "      <th>artist</th>\n",
       "      <th>song</th>\n",
       "      <th>text</th>\n",
       "    </tr>\n",
       "  </thead>\n",
       "  <tbody>\n",
       "    <tr>\n",
       "      <th>0</th>\n",
       "      <td>Yngwie Malmsteen</td>\n",
       "      <td>Time Will Tell</td>\n",
       "      <td>I've never killed another man  \\r\\nI've never ...</td>\n",
       "    </tr>\n",
       "    <tr>\n",
       "      <th>1</th>\n",
       "      <td>Wanda Jackson</td>\n",
       "      <td>Let Me Talk To You</td>\n",
       "      <td>Just one more dance, just one more chance so I...</td>\n",
       "    </tr>\n",
       "    <tr>\n",
       "      <th>2</th>\n",
       "      <td>Lady Gaga</td>\n",
       "      <td>Starstruck</td>\n",
       "      <td>Groove. slam. work it back. filter that. baby ...</td>\n",
       "    </tr>\n",
       "    <tr>\n",
       "      <th>3</th>\n",
       "      <td>Ramones</td>\n",
       "      <td>Out Of Time</td>\n",
       "      <td>You don't know what's going on  \\r\\nYou've bee...</td>\n",
       "    </tr>\n",
       "    <tr>\n",
       "      <th>4</th>\n",
       "      <td>Rihanna</td>\n",
       "      <td>Where Have You Been</td>\n",
       "      <td>I've been everywhere, man  \\r\\nLooking for som...</td>\n",
       "    </tr>\n",
       "    <tr>\n",
       "      <th>5</th>\n",
       "      <td>Iggy Pop</td>\n",
       "      <td>Search And Destroy</td>\n",
       "      <td>I'm a street walking cheetah  \\r\\nWith a heart...</td>\n",
       "    </tr>\n",
       "    <tr>\n",
       "      <th>6</th>\n",
       "      <td>Zao</td>\n",
       "      <td>To Think Of You Is To Treasure An Absent Memory</td>\n",
       "      <td>When you shut your eyes and fell asleep  \\r\\nD...</td>\n",
       "    </tr>\n",
       "    <tr>\n",
       "      <th>7</th>\n",
       "      <td>Misfits</td>\n",
       "      <td>Nike A Go Go</td>\n",
       "      <td>Go  \\r\\nIt's a missile girl  \\r\\nIn a missile ...</td>\n",
       "    </tr>\n",
       "    <tr>\n",
       "      <th>8</th>\n",
       "      <td>Indigo Girls</td>\n",
       "      <td>Fly Away</td>\n",
       "      <td>Fly away little bird  \\r\\nAny place in this op...</td>\n",
       "    </tr>\n",
       "    <tr>\n",
       "      <th>9</th>\n",
       "      <td>Miley Cyrus</td>\n",
       "      <td>Who Owns My Heart</td>\n",
       "      <td>R  \\r\\nO  \\r\\nC  \\r\\nK  \\r\\nMafia  \\r\\n  \\r\\nC...</td>\n",
       "    </tr>\n",
       "  </tbody>\n",
       "</table>\n",
       "</div>"
      ],
      "text/plain": [
       "             artist                                             song  \\\n",
       "0  Yngwie Malmsteen                                   Time Will Tell   \n",
       "1     Wanda Jackson                               Let Me Talk To You   \n",
       "2         Lady Gaga                                       Starstruck   \n",
       "3           Ramones                                      Out Of Time   \n",
       "4           Rihanna                              Where Have You Been   \n",
       "5          Iggy Pop                               Search And Destroy   \n",
       "6               Zao  To Think Of You Is To Treasure An Absent Memory   \n",
       "7           Misfits                                     Nike A Go Go   \n",
       "8      Indigo Girls                                         Fly Away   \n",
       "9       Miley Cyrus                                Who Owns My Heart   \n",
       "\n",
       "                                                text  \n",
       "0  I've never killed another man  \\r\\nI've never ...  \n",
       "1  Just one more dance, just one more chance so I...  \n",
       "2  Groove. slam. work it back. filter that. baby ...  \n",
       "3  You don't know what's going on  \\r\\nYou've bee...  \n",
       "4  I've been everywhere, man  \\r\\nLooking for som...  \n",
       "5  I'm a street walking cheetah  \\r\\nWith a heart...  \n",
       "6  When you shut your eyes and fell asleep  \\r\\nD...  \n",
       "7  Go  \\r\\nIt's a missile girl  \\r\\nIn a missile ...  \n",
       "8  Fly away little bird  \\r\\nAny place in this op...  \n",
       "9  R  \\r\\nO  \\r\\nC  \\r\\nK  \\r\\nMafia  \\r\\n  \\r\\nC...  "
      ]
     },
     "execution_count": 44,
     "metadata": {},
     "output_type": "execute_result"
    }
   ],
   "source": [
    "df.head(10)"
   ]
  },
  {
   "cell_type": "code",
   "execution_count": 21,
   "id": "4a7064e3-a2ec-4526-88e4-2b967dcb17f3",
   "metadata": {},
   "outputs": [
    {
     "data": {
      "text/plain": [
       "(57650, 4)"
      ]
     },
     "execution_count": 21,
     "metadata": {},
     "output_type": "execute_result"
    }
   ],
   "source": [
    "df.shape"
   ]
  },
  {
   "cell_type": "code",
   "execution_count": 22,
   "id": "905bb863-0318-41a3-9c66-7a862e0de45d",
   "metadata": {},
   "outputs": [
    {
     "data": {
      "text/plain": [
       "artist    0\n",
       "song      0\n",
       "link      0\n",
       "text      0\n",
       "dtype: int64"
      ]
     },
     "execution_count": 22,
     "metadata": {},
     "output_type": "execute_result"
    }
   ],
   "source": [
    "df.isnull().sum()"
   ]
  },
  {
   "cell_type": "code",
   "execution_count": 23,
   "id": "36edb181-78b2-4612-90e0-b1412e6cf4c4",
   "metadata": {},
   "outputs": [],
   "source": [
    "df = df.sample(10000).drop('link', axis=1).reset_index(drop=True)"
   ]
  },
  {
   "cell_type": "code",
   "execution_count": 24,
   "id": "4fc547fb-6611-4de9-aef7-e696c370fa01",
   "metadata": {},
   "outputs": [
    {
     "data": {
      "text/html": [
       "<div>\n",
       "<style scoped>\n",
       "    .dataframe tbody tr th:only-of-type {\n",
       "        vertical-align: middle;\n",
       "    }\n",
       "\n",
       "    .dataframe tbody tr th {\n",
       "        vertical-align: top;\n",
       "    }\n",
       "\n",
       "    .dataframe thead th {\n",
       "        text-align: right;\n",
       "    }\n",
       "</style>\n",
       "<table border=\"1\" class=\"dataframe\">\n",
       "  <thead>\n",
       "    <tr style=\"text-align: right;\">\n",
       "      <th></th>\n",
       "      <th>artist</th>\n",
       "      <th>song</th>\n",
       "      <th>text</th>\n",
       "    </tr>\n",
       "  </thead>\n",
       "  <tbody>\n",
       "    <tr>\n",
       "      <th>0</th>\n",
       "      <td>Yngwie Malmsteen</td>\n",
       "      <td>Time Will Tell</td>\n",
       "      <td>I've never killed another man  \\r\\nI've never ...</td>\n",
       "    </tr>\n",
       "    <tr>\n",
       "      <th>1</th>\n",
       "      <td>Wanda Jackson</td>\n",
       "      <td>Let Me Talk To You</td>\n",
       "      <td>Just one more dance, just one more chance so I...</td>\n",
       "    </tr>\n",
       "    <tr>\n",
       "      <th>2</th>\n",
       "      <td>Lady Gaga</td>\n",
       "      <td>Starstruck</td>\n",
       "      <td>Groove. slam. work it back. filter that. baby ...</td>\n",
       "    </tr>\n",
       "    <tr>\n",
       "      <th>3</th>\n",
       "      <td>Ramones</td>\n",
       "      <td>Out Of Time</td>\n",
       "      <td>You don't know what's going on  \\r\\nYou've bee...</td>\n",
       "    </tr>\n",
       "    <tr>\n",
       "      <th>4</th>\n",
       "      <td>Rihanna</td>\n",
       "      <td>Where Have You Been</td>\n",
       "      <td>I've been everywhere, man  \\r\\nLooking for som...</td>\n",
       "    </tr>\n",
       "  </tbody>\n",
       "</table>\n",
       "</div>"
      ],
      "text/plain": [
       "             artist                 song  \\\n",
       "0  Yngwie Malmsteen       Time Will Tell   \n",
       "1     Wanda Jackson   Let Me Talk To You   \n",
       "2         Lady Gaga           Starstruck   \n",
       "3           Ramones          Out Of Time   \n",
       "4           Rihanna  Where Have You Been   \n",
       "\n",
       "                                                text  \n",
       "0  I've never killed another man  \\r\\nI've never ...  \n",
       "1  Just one more dance, just one more chance so I...  \n",
       "2  Groove. slam. work it back. filter that. baby ...  \n",
       "3  You don't know what's going on  \\r\\nYou've bee...  \n",
       "4  I've been everywhere, man  \\r\\nLooking for som...  "
      ]
     },
     "execution_count": 24,
     "metadata": {},
     "output_type": "execute_result"
    }
   ],
   "source": [
    "df.head()"
   ]
  },
  {
   "cell_type": "code",
   "execution_count": 46,
   "id": "9220e7f8-62c3-4936-8e38-a210c5e5952f",
   "metadata": {},
   "outputs": [
    {
     "data": {
      "text/html": [
       "<div>\n",
       "<style scoped>\n",
       "    .dataframe tbody tr th:only-of-type {\n",
       "        vertical-align: middle;\n",
       "    }\n",
       "\n",
       "    .dataframe tbody tr th {\n",
       "        vertical-align: top;\n",
       "    }\n",
       "\n",
       "    .dataframe thead th {\n",
       "        text-align: right;\n",
       "    }\n",
       "</style>\n",
       "<table border=\"1\" class=\"dataframe\">\n",
       "  <thead>\n",
       "    <tr style=\"text-align: right;\">\n",
       "      <th></th>\n",
       "      <th>artist</th>\n",
       "      <th>song</th>\n",
       "      <th>text</th>\n",
       "    </tr>\n",
       "  </thead>\n",
       "  <tbody>\n",
       "    <tr>\n",
       "      <th>9995</th>\n",
       "      <td>Dave Matthews Band</td>\n",
       "      <td>Lying In The Hands of God</td>\n",
       "      <td>Maybe I'll be your solider  \\r\\nGladly I'll do...</td>\n",
       "    </tr>\n",
       "    <tr>\n",
       "      <th>9996</th>\n",
       "      <td>Tom Lehrer</td>\n",
       "      <td>The Folk Song Army</td>\n",
       "      <td>We are the folk song army,  \\r\\nEvery one of u...</td>\n",
       "    </tr>\n",
       "    <tr>\n",
       "      <th>9997</th>\n",
       "      <td>Marilyn Manson</td>\n",
       "      <td>The Speed Of Pain</td>\n",
       "      <td>They slit our throats  \\r\\nLike we were flower...</td>\n",
       "    </tr>\n",
       "    <tr>\n",
       "      <th>9998</th>\n",
       "      <td>Mary Black</td>\n",
       "      <td>If I Gave My Heart To You</td>\n",
       "      <td>If I gave my heart to you  \\r\\nWould you promi...</td>\n",
       "    </tr>\n",
       "    <tr>\n",
       "      <th>9999</th>\n",
       "      <td>Indigo Girls</td>\n",
       "      <td>Shed Your Skin</td>\n",
       "      <td>115  \\r\\nYou are 17  \\r\\nItchy trigger  \\r\\nVe...</td>\n",
       "    </tr>\n",
       "  </tbody>\n",
       "</table>\n",
       "</div>"
      ],
      "text/plain": [
       "                  artist                       song  \\\n",
       "9995  Dave Matthews Band  Lying In The Hands of God   \n",
       "9996          Tom Lehrer         The Folk Song Army   \n",
       "9997      Marilyn Manson          The Speed Of Pain   \n",
       "9998          Mary Black  If I Gave My Heart To You   \n",
       "9999        Indigo Girls             Shed Your Skin   \n",
       "\n",
       "                                                   text  \n",
       "9995  Maybe I'll be your solider  \\r\\nGladly I'll do...  \n",
       "9996  We are the folk song army,  \\r\\nEvery one of u...  \n",
       "9997  They slit our throats  \\r\\nLike we were flower...  \n",
       "9998  If I gave my heart to you  \\r\\nWould you promi...  \n",
       "9999  115  \\r\\nYou are 17  \\r\\nItchy trigger  \\r\\nVe...  "
      ]
     },
     "execution_count": 46,
     "metadata": {},
     "output_type": "execute_result"
    }
   ],
   "source": [
    "df.tail()"
   ]
  },
  {
   "cell_type": "code",
   "execution_count": 25,
   "id": "bd860f56-2ad3-4fe2-a1c5-692856156fea",
   "metadata": {},
   "outputs": [
    {
     "data": {
      "text/plain": [
       "\"I've never killed another man  \\r\\nI've never lived the master plan  \\r\\nI can only pray that we'll survive  \\r\\n  \\r\\nWith every sin and whitened line,  \\r\\nI see the future slipping by  \\r\\nThe time is nearing, what have we done  \\r\\n  \\r\\nIs there a reason? Someone explain?  \\r\\nAnd in the end will we pay?  \\r\\n  \\r\\nTime will Tell  \\r\\nI will  \\r\\n  \\r\\nThe hands of time we can't turn back  \\r\\nHave we all slipped through the cracks  \\r\\nLord have mercy, forgive us all  \\r\\n  \\r\\nIs there a reason? Someone explain?  \\r\\nAnd in the end will we pay?  \\r\\n  \\r\\nTime will Tell  \\r\\nI will  \\r\\n  \\r\\nThere's no use looking back  \\r\\nEverything's turning black  \\r\\nTime's running out for us all\\r\\n\\r\\n\""
      ]
     },
     "execution_count": 25,
     "metadata": {},
     "output_type": "execute_result"
    }
   ],
   "source": [
    "df['text'][0]"
   ]
  },
  {
   "cell_type": "code",
   "execution_count": 26,
   "id": "6b7bb4fd-c087-4ac5-8423-544477637523",
   "metadata": {},
   "outputs": [
    {
     "data": {
      "text/plain": [
       "(10000, 3)"
      ]
     },
     "execution_count": 26,
     "metadata": {},
     "output_type": "execute_result"
    }
   ],
   "source": [
    "df.shape"
   ]
  },
  {
   "cell_type": "code",
   "execution_count": 28,
   "id": "e5b45077-78c4-4a23-b95d-df2cb4035a58",
   "metadata": {},
   "outputs": [],
   "source": [
    "#data preprocessing\n",
    "import nltk\n",
    "from nltk.stem.porter import PorterStemmer\n",
    "stemmer = PorterStemmer()\n",
    "\n",
    "def tokenization(txt):\n",
    "    tokens = nltk.word_tokenize(txt)\n",
    "    stemming = [stemmer.stem(w) for w in tokens]\n",
    "    return \" \".join(stemmming)"
   ]
  },
  {
   "cell_type": "code",
   "execution_count": 31,
   "id": "3b0083f1-c864-4453-9b96-a329d2242a75",
   "metadata": {},
   "outputs": [],
   "source": [
    "from sklearn.feature_extraction.text import TfidfVectorizer\n",
    "from sklearn.metrics.pairwise import cosine_similarity"
   ]
  },
  {
   "cell_type": "code",
   "execution_count": 32,
   "id": "4ae56b8c-823b-4691-8991-8af2ab28f542",
   "metadata": {},
   "outputs": [],
   "source": [
    "tfidvector = TfidfVectorizer(analyzer='word',stop_words='english')\n",
    "matrix = tfidvector.fit_transform(df['text'])\n",
    "similarity = cosine_similarity(matrix)"
   ]
  },
  {
   "cell_type": "code",
   "execution_count": 33,
   "id": "484c5dfa-df8c-4a36-9a8b-6d349bb54659",
   "metadata": {},
   "outputs": [
    {
     "data": {
      "text/plain": [
       "array([1.        , 0.0103545 , 0.00662779, ..., 0.01420802, 0.        ,\n",
       "       0.03004366])"
      ]
     },
     "execution_count": 33,
     "metadata": {},
     "output_type": "execute_result"
    }
   ],
   "source": [
    "similarity[0]"
   ]
  },
  {
   "cell_type": "code",
   "execution_count": 34,
   "id": "e731c5bc-2257-476c-aa0c-acf17b187867",
   "metadata": {},
   "outputs": [
    {
     "data": {
      "text/html": [
       "<div>\n",
       "<style scoped>\n",
       "    .dataframe tbody tr th:only-of-type {\n",
       "        vertical-align: middle;\n",
       "    }\n",
       "\n",
       "    .dataframe tbody tr th {\n",
       "        vertical-align: top;\n",
       "    }\n",
       "\n",
       "    .dataframe thead th {\n",
       "        text-align: right;\n",
       "    }\n",
       "</style>\n",
       "<table border=\"1\" class=\"dataframe\">\n",
       "  <thead>\n",
       "    <tr style=\"text-align: right;\">\n",
       "      <th></th>\n",
       "      <th>artist</th>\n",
       "      <th>song</th>\n",
       "      <th>text</th>\n",
       "    </tr>\n",
       "  </thead>\n",
       "  <tbody>\n",
       "  </tbody>\n",
       "</table>\n",
       "</div>"
      ],
      "text/plain": [
       "Empty DataFrame\n",
       "Columns: [artist, song, text]\n",
       "Index: []"
      ]
     },
     "execution_count": 34,
     "metadata": {},
     "output_type": "execute_result"
    }
   ],
   "source": [
    "df[df['song'] == 'Crazy World']"
   ]
  },
  {
   "cell_type": "code",
   "execution_count": 42,
   "id": "d75331f4-7b61-4711-8d6e-12f54bf8808e",
   "metadata": {},
   "outputs": [],
   "source": [
    "def recommendation(song_df):\n",
    "    idx = df[df['song'] == song_df].index[0]\n",
    "    distances = sorted(list(enumerate(similarity[idx])),reverse=True,key=lambda x:x[1])\n",
    "    \n",
    "    songs = []\n",
    "    for m_id in distances[1:5]:\n",
    "        songs.append(df.iloc[m_id[0]].song)\n",
    "        \n",
    "    return songs"
   ]
  },
  {
   "cell_type": "code",
   "execution_count": 43,
   "id": "56e123fe-18b0-48d5-8dec-339efa4c0cbf",
   "metadata": {},
   "outputs": [
    {
     "data": {
      "text/plain": [
       "['Starstruck', 'Blow By Blow', 'Blow It All Away', 'Baby']"
      ]
     },
     "execution_count": 43,
     "metadata": {},
     "output_type": "execute_result"
    }
   ],
   "source": [
    "recommendation('Starstruck')"
   ]
  },
  {
   "cell_type": "code",
   "execution_count": 45,
   "id": "0fad13ad-43c1-4058-9143-82f7c9505420",
   "metadata": {},
   "outputs": [],
   "source": [
    "import pickle\n",
    "pickle.dump(similarity,open('similarity.pkl','wb'))\n",
    "pickle.dump(df,open('df.pkl','wb'))"
   ]
  },
  {
   "cell_type": "code",
   "execution_count": null,
   "id": "571eb879-9cc3-4956-9a65-f136a91455d2",
   "metadata": {},
   "outputs": [],
   "source": []
  },
  {
   "cell_type": "code",
   "execution_count": null,
   "id": "1b4e45e1-2581-4bdf-93b1-b442f12c61d5",
   "metadata": {},
   "outputs": [],
   "source": []
  }
 ],
 "metadata": {
  "kernelspec": {
   "display_name": "Python 3 (ipykernel)",
   "language": "python",
   "name": "python3"
  },
  "language_info": {
   "codemirror_mode": {
    "name": "ipython",
    "version": 3
   },
   "file_extension": ".py",
   "mimetype": "text/x-python",
   "name": "python",
   "nbconvert_exporter": "python",
   "pygments_lexer": "ipython3",
   "version": "3.12.4"
  }
 },
 "nbformat": 4,
 "nbformat_minor": 5
}
